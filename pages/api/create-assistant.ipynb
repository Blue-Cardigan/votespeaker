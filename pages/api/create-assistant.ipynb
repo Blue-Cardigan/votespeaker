{
 "cells": [
  {
   "cell_type": "code",
   "execution_count": 4,
   "metadata": {},
   "outputs": [
    {
     "name": "stdout",
     "output_type": "stream",
     "text": [
      "New Assistant ID: asst_FVzEkBE2R2EM3q9RWd6zKdq0\n"
     ]
    }
   ],
   "source": [
    "from openai import OpenAI\n",
    "from dotenv import load_dotenv, dotenv_values\n",
    "import os\n",
    "\n",
    "# Load environment variables from .env file\n",
    "dotenv_path = '../../.env'\n",
    "load_dotenv(dotenv_path=dotenv_path)\n",
    "\n",
    "# Access the API key\n",
    "client = OpenAI(api_key=os.environ.get(\"REACT_APP_OPENAI_API_KEY\"))\n",
    "\n",
    "# Creating the assistant\n",
    "assistant = client.beta.assistants.create(\n",
    "  instructions=\"You are an expert in political communication and letter writing in campaigns. You are responsible for writing short personalised letters to voters in the upcoming election. Analyze the provided information to understand how best to resonate with the voter, then provide a short compelling letter to convince them to vote for your candidate.\",\n",
    "  model=\"gpt-4o\",  # Assuming using a GPT-4o model; adjust as necessary\n",
    "  tools=[{\"type\": \"retrieval\"}]\n",
    ")\n",
    "\n",
    "# Print the assistant's ID\n",
    "print(f\"New Assistant ID: {assistant.id}\")\n",
    "\n",
    "# Update the ASSISTANT_ID in the .env file\n",
    "env_values = dotenv_values(dotenv_path)\n",
    "env_values[\"ASSISTANT_ID\"] = assistant.id\n",
    "\n",
    "# Write the updated values back to the .env file\n",
    "with open(dotenv_path, 'w') as env_file:\n",
    "    for key, value in env_values.items():\n",
    "        env_file.write(f\"{key}={value}\\n\")"
   ]
  }
 ],
 "metadata": {
  "kernelspec": {
   "display_name": "Python 3.10 (XPython Raw)",
   "language": "python",
   "name": "xpython-raw"
  },
  "language_info": {
   "file_extension": ".py",
   "mimetype": "text/x-python",
   "name": "python",
   "version": "3.10.10"
  }
 },
 "nbformat": 4,
 "nbformat_minor": 2
}
